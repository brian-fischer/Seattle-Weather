{
  "nbformat": 4,
  "nbformat_minor": 0,
  "metadata": {
    "colab": {
      "provenance": [],
      "include_colab_link": true
    },
    "kernelspec": {
      "name": "python3",
      "display_name": "Python 3"
    },
    "language_info": {
      "name": "python"
    }
  },
  "cells": [
    {
      "cell_type": "markdown",
      "metadata": {
        "id": "view-in-github",
        "colab_type": "text"
      },
      "source": [
        "<a href=\"https://colab.research.google.com/github/yangste333/Seattle-Weather/blob/main/data_analysis/DATA_3320_Seattle_St_Louis_Analysis_Stephen_Yang.ipynb\" target=\"_parent\"><img src=\"https://colab.research.google.com/assets/colab-badge.svg\" alt=\"Open In Colab\"/></a>"
      ]
    },
    {
      "cell_type": "markdown",
      "source": [
        "## Introduction"
      ],
      "metadata": {
        "id": "cOSJyABoshOK"
      }
    },
    {
      "cell_type": "markdown",
      "source": [
        "This notebook creates visualizations and graphs to adjust and manipulate Seattle and St. Louis precipitation data to determine whether it rains more or less in either place."
      ],
      "metadata": {
        "id": "26hIPGtBsi7g"
      }
    },
    {
      "cell_type": "markdown",
      "source": [
        "## Import libraries"
      ],
      "metadata": {
        "id": "dwvtDMCYlPus"
      }
    },
    {
      "cell_type": "code",
      "execution_count": null,
      "metadata": {
        "id": "DQZAzYri_ru5"
      },
      "outputs": [],
      "source": [
        "import pandas as pd\n",
        "import numpy as np\n",
        "import matplotlib.pyplot as plt\n",
        "import seaborn as sns\n",
        "sns.set_theme(style='whitegrid')\n",
        "import missingno as msno"
      ]
    },
    {
      "cell_type": "markdown",
      "source": [
        "## Load clean data"
      ],
      "metadata": {
        "id": "gm4P0PathHWa"
      }
    },
    {
      "cell_type": "markdown",
      "source": [
        "The dataset was originally collected from the NOAA National Centers for Environmental Information (https://www.ncei.noaa.gov/cdo-web/search?datasetid=GHCND). \n",
        "\n",
        "It was cleaned using this notebook: https://colab.research.google.com/drive/1tTT5C1klU7IGHWG1Alp8Y0kgpaIk0ZQb\n",
        "\n"
      ],
      "metadata": {
        "id": "QkmlZyBQgsq2"
      }
    },
    {
      "cell_type": "markdown",
      "source": [
        "Loading the clean data set."
      ],
      "metadata": {
        "id": "3f5ZlncEy6_-"
      }
    },
    {
      "cell_type": "code",
      "source": [
        "df = pd.read_csv('https://raw.githubusercontent.com/yangste333/Seattle-Weather/main/data_cleaning/clean_seattle_stl_weather.csv')"
      ],
      "metadata": {
        "id": "gUJV9NjM4nng"
      },
      "execution_count": null,
      "outputs": []
    },
    {
      "cell_type": "markdown",
      "source": [
        "Quick summary of the dataset and its structure:"
      ],
      "metadata": {
        "id": "79uDfIiT4raQ"
      }
    },
    {
      "cell_type": "code",
      "source": [
        "df.head()"
      ],
      "metadata": {
        "colab": {
          "base_uri": "https://localhost:8080/",
          "height": 206
        },
        "id": "GqOQ-6qzXXpY",
        "outputId": "b7ac460a-87c5-4431-d923-ec213afe0f42"
      },
      "execution_count": null,
      "outputs": [
        {
          "output_type": "execute_result",
          "data": {
            "text/plain": [
              "         date city  precipitation  day_of_year  month  year\n",
              "0  2018-01-01  SEA           0.00            1      1  2018\n",
              "1  2018-01-02  SEA           0.00            2      1  2018\n",
              "2  2018-01-03  SEA           0.00            3      1  2018\n",
              "3  2018-01-04  SEA           0.00            4      1  2018\n",
              "4  2018-01-05  SEA           0.25            5      1  2018"
            ],
            "text/html": [
              "\n",
              "  <div id=\"df-5f78e7cd-790d-4e02-bd90-03fdddf56d99\">\n",
              "    <div class=\"colab-df-container\">\n",
              "      <div>\n",
              "<style scoped>\n",
              "    .dataframe tbody tr th:only-of-type {\n",
              "        vertical-align: middle;\n",
              "    }\n",
              "\n",
              "    .dataframe tbody tr th {\n",
              "        vertical-align: top;\n",
              "    }\n",
              "\n",
              "    .dataframe thead th {\n",
              "        text-align: right;\n",
              "    }\n",
              "</style>\n",
              "<table border=\"1\" class=\"dataframe\">\n",
              "  <thead>\n",
              "    <tr style=\"text-align: right;\">\n",
              "      <th></th>\n",
              "      <th>date</th>\n",
              "      <th>city</th>\n",
              "      <th>precipitation</th>\n",
              "      <th>day_of_year</th>\n",
              "      <th>month</th>\n",
              "      <th>year</th>\n",
              "    </tr>\n",
              "  </thead>\n",
              "  <tbody>\n",
              "    <tr>\n",
              "      <th>0</th>\n",
              "      <td>2018-01-01</td>\n",
              "      <td>SEA</td>\n",
              "      <td>0.00</td>\n",
              "      <td>1</td>\n",
              "      <td>1</td>\n",
              "      <td>2018</td>\n",
              "    </tr>\n",
              "    <tr>\n",
              "      <th>1</th>\n",
              "      <td>2018-01-02</td>\n",
              "      <td>SEA</td>\n",
              "      <td>0.00</td>\n",
              "      <td>2</td>\n",
              "      <td>1</td>\n",
              "      <td>2018</td>\n",
              "    </tr>\n",
              "    <tr>\n",
              "      <th>2</th>\n",
              "      <td>2018-01-03</td>\n",
              "      <td>SEA</td>\n",
              "      <td>0.00</td>\n",
              "      <td>3</td>\n",
              "      <td>1</td>\n",
              "      <td>2018</td>\n",
              "    </tr>\n",
              "    <tr>\n",
              "      <th>3</th>\n",
              "      <td>2018-01-04</td>\n",
              "      <td>SEA</td>\n",
              "      <td>0.00</td>\n",
              "      <td>4</td>\n",
              "      <td>1</td>\n",
              "      <td>2018</td>\n",
              "    </tr>\n",
              "    <tr>\n",
              "      <th>4</th>\n",
              "      <td>2018-01-05</td>\n",
              "      <td>SEA</td>\n",
              "      <td>0.25</td>\n",
              "      <td>5</td>\n",
              "      <td>1</td>\n",
              "      <td>2018</td>\n",
              "    </tr>\n",
              "  </tbody>\n",
              "</table>\n",
              "</div>\n",
              "      <button class=\"colab-df-convert\" onclick=\"convertToInteractive('df-5f78e7cd-790d-4e02-bd90-03fdddf56d99')\"\n",
              "              title=\"Convert this dataframe to an interactive table.\"\n",
              "              style=\"display:none;\">\n",
              "        \n",
              "  <svg xmlns=\"http://www.w3.org/2000/svg\" height=\"24px\"viewBox=\"0 0 24 24\"\n",
              "       width=\"24px\">\n",
              "    <path d=\"M0 0h24v24H0V0z\" fill=\"none\"/>\n",
              "    <path d=\"M18.56 5.44l.94 2.06.94-2.06 2.06-.94-2.06-.94-.94-2.06-.94 2.06-2.06.94zm-11 1L8.5 8.5l.94-2.06 2.06-.94-2.06-.94L8.5 2.5l-.94 2.06-2.06.94zm10 10l.94 2.06.94-2.06 2.06-.94-2.06-.94-.94-2.06-.94 2.06-2.06.94z\"/><path d=\"M17.41 7.96l-1.37-1.37c-.4-.4-.92-.59-1.43-.59-.52 0-1.04.2-1.43.59L10.3 9.45l-7.72 7.72c-.78.78-.78 2.05 0 2.83L4 21.41c.39.39.9.59 1.41.59.51 0 1.02-.2 1.41-.59l7.78-7.78 2.81-2.81c.8-.78.8-2.07 0-2.86zM5.41 20L4 18.59l7.72-7.72 1.47 1.35L5.41 20z\"/>\n",
              "  </svg>\n",
              "      </button>\n",
              "      \n",
              "  <style>\n",
              "    .colab-df-container {\n",
              "      display:flex;\n",
              "      flex-wrap:wrap;\n",
              "      gap: 12px;\n",
              "    }\n",
              "\n",
              "    .colab-df-convert {\n",
              "      background-color: #E8F0FE;\n",
              "      border: none;\n",
              "      border-radius: 50%;\n",
              "      cursor: pointer;\n",
              "      display: none;\n",
              "      fill: #1967D2;\n",
              "      height: 32px;\n",
              "      padding: 0 0 0 0;\n",
              "      width: 32px;\n",
              "    }\n",
              "\n",
              "    .colab-df-convert:hover {\n",
              "      background-color: #E2EBFA;\n",
              "      box-shadow: 0px 1px 2px rgba(60, 64, 67, 0.3), 0px 1px 3px 1px rgba(60, 64, 67, 0.15);\n",
              "      fill: #174EA6;\n",
              "    }\n",
              "\n",
              "    [theme=dark] .colab-df-convert {\n",
              "      background-color: #3B4455;\n",
              "      fill: #D2E3FC;\n",
              "    }\n",
              "\n",
              "    [theme=dark] .colab-df-convert:hover {\n",
              "      background-color: #434B5C;\n",
              "      box-shadow: 0px 1px 3px 1px rgba(0, 0, 0, 0.15);\n",
              "      filter: drop-shadow(0px 1px 2px rgba(0, 0, 0, 0.3));\n",
              "      fill: #FFFFFF;\n",
              "    }\n",
              "  </style>\n",
              "\n",
              "      <script>\n",
              "        const buttonEl =\n",
              "          document.querySelector('#df-5f78e7cd-790d-4e02-bd90-03fdddf56d99 button.colab-df-convert');\n",
              "        buttonEl.style.display =\n",
              "          google.colab.kernel.accessAllowed ? 'block' : 'none';\n",
              "\n",
              "        async function convertToInteractive(key) {\n",
              "          const element = document.querySelector('#df-5f78e7cd-790d-4e02-bd90-03fdddf56d99');\n",
              "          const dataTable =\n",
              "            await google.colab.kernel.invokeFunction('convertToInteractive',\n",
              "                                                     [key], {});\n",
              "          if (!dataTable) return;\n",
              "\n",
              "          const docLinkHtml = 'Like what you see? Visit the ' +\n",
              "            '<a target=\"_blank\" href=https://colab.research.google.com/notebooks/data_table.ipynb>data table notebook</a>'\n",
              "            + ' to learn more about interactive tables.';\n",
              "          element.innerHTML = '';\n",
              "          dataTable['output_type'] = 'display_data';\n",
              "          await google.colab.output.renderOutput(dataTable, element);\n",
              "          const docLink = document.createElement('div');\n",
              "          docLink.innerHTML = docLinkHtml;\n",
              "          element.appendChild(docLink);\n",
              "        }\n",
              "      </script>\n",
              "    </div>\n",
              "  </div>\n",
              "  "
            ]
          },
          "metadata": {},
          "execution_count": 4
        }
      ]
    },
    {
      "cell_type": "markdown",
      "source": [
        "## State your questions"
      ],
      "metadata": {
        "id": "bObnX61C95DL"
      }
    },
    {
      "cell_type": "markdown",
      "source": [
        "There's a lot of different measures of \"more or less rain\". We can examine:\n",
        "\n",
        "- what is the average amount of rain in each location?\n",
        "- how many days does it rain for each location?\n",
        "- when it does rain, how hard does it rain on average for each location?"
      ],
      "metadata": {
        "id": "h8NWZuty-NJJ"
      }
    },
    {
      "cell_type": "markdown",
      "source": [
        "## Analysis"
      ],
      "metadata": {
        "id": "bkTA97Z7QgpH"
      }
    },
    {
      "cell_type": "markdown",
      "source": [
        "A good place to start is just a simple summary of each set of precipitation, split by city."
      ],
      "metadata": {
        "id": "RuqusPnQd5Zz"
      }
    },
    {
      "cell_type": "code",
      "source": [
        "df.groupby('city').describe()"
      ],
      "metadata": {
        "colab": {
          "base_uri": "https://localhost:8080/",
          "height": 204
        },
        "id": "o7tN38qUd9XB",
        "outputId": "25413d06-d895-4694-837d-92b8c4d01a28"
      },
      "execution_count": null,
      "outputs": [
        {
          "output_type": "execute_result",
          "data": {
            "text/plain": [
              "     precipitation                                                  \\\n",
              "             count      mean       std  min  25%   50%   75%   max   \n",
              "city                                                                 \n",
              "SEA         1826.0  0.113270  0.240516  0.0  0.0  0.01  0.12  2.60   \n",
              "STL         1826.0  0.130345  0.392268  0.0  0.0  0.00  0.05  8.64   \n",
              "\n",
              "     day_of_year              ... month          year                    \\\n",
              "           count        mean  ...   75%   max   count    mean       std   \n",
              "city                          ...                                         \n",
              "SEA       1826.0  183.100219  ...  10.0  12.0  1826.0  2020.0  1.414214   \n",
              "STL       1826.0  183.100219  ...  10.0  12.0  1826.0  2020.0  1.414214   \n",
              "\n",
              "                                              \n",
              "         min     25%     50%     75%     max  \n",
              "city                                          \n",
              "SEA   2018.0  2019.0  2020.0  2021.0  2022.0  \n",
              "STL   2018.0  2019.0  2020.0  2021.0  2022.0  \n",
              "\n",
              "[2 rows x 32 columns]"
            ],
            "text/html": [
              "\n",
              "  <div id=\"df-0b7b1c1b-9129-4e03-8cd8-616f1a048009\">\n",
              "    <div class=\"colab-df-container\">\n",
              "      <div>\n",
              "<style scoped>\n",
              "    .dataframe tbody tr th:only-of-type {\n",
              "        vertical-align: middle;\n",
              "    }\n",
              "\n",
              "    .dataframe tbody tr th {\n",
              "        vertical-align: top;\n",
              "    }\n",
              "\n",
              "    .dataframe thead tr th {\n",
              "        text-align: left;\n",
              "    }\n",
              "\n",
              "    .dataframe thead tr:last-of-type th {\n",
              "        text-align: right;\n",
              "    }\n",
              "</style>\n",
              "<table border=\"1\" class=\"dataframe\">\n",
              "  <thead>\n",
              "    <tr>\n",
              "      <th></th>\n",
              "      <th colspan=\"8\" halign=\"left\">precipitation</th>\n",
              "      <th colspan=\"2\" halign=\"left\">day_of_year</th>\n",
              "      <th>...</th>\n",
              "      <th colspan=\"2\" halign=\"left\">month</th>\n",
              "      <th colspan=\"8\" halign=\"left\">year</th>\n",
              "    </tr>\n",
              "    <tr>\n",
              "      <th></th>\n",
              "      <th>count</th>\n",
              "      <th>mean</th>\n",
              "      <th>std</th>\n",
              "      <th>min</th>\n",
              "      <th>25%</th>\n",
              "      <th>50%</th>\n",
              "      <th>75%</th>\n",
              "      <th>max</th>\n",
              "      <th>count</th>\n",
              "      <th>mean</th>\n",
              "      <th>...</th>\n",
              "      <th>75%</th>\n",
              "      <th>max</th>\n",
              "      <th>count</th>\n",
              "      <th>mean</th>\n",
              "      <th>std</th>\n",
              "      <th>min</th>\n",
              "      <th>25%</th>\n",
              "      <th>50%</th>\n",
              "      <th>75%</th>\n",
              "      <th>max</th>\n",
              "    </tr>\n",
              "    <tr>\n",
              "      <th>city</th>\n",
              "      <th></th>\n",
              "      <th></th>\n",
              "      <th></th>\n",
              "      <th></th>\n",
              "      <th></th>\n",
              "      <th></th>\n",
              "      <th></th>\n",
              "      <th></th>\n",
              "      <th></th>\n",
              "      <th></th>\n",
              "      <th></th>\n",
              "      <th></th>\n",
              "      <th></th>\n",
              "      <th></th>\n",
              "      <th></th>\n",
              "      <th></th>\n",
              "      <th></th>\n",
              "      <th></th>\n",
              "      <th></th>\n",
              "      <th></th>\n",
              "      <th></th>\n",
              "    </tr>\n",
              "  </thead>\n",
              "  <tbody>\n",
              "    <tr>\n",
              "      <th>SEA</th>\n",
              "      <td>1826.0</td>\n",
              "      <td>0.113270</td>\n",
              "      <td>0.240516</td>\n",
              "      <td>0.0</td>\n",
              "      <td>0.0</td>\n",
              "      <td>0.01</td>\n",
              "      <td>0.12</td>\n",
              "      <td>2.60</td>\n",
              "      <td>1826.0</td>\n",
              "      <td>183.100219</td>\n",
              "      <td>...</td>\n",
              "      <td>10.0</td>\n",
              "      <td>12.0</td>\n",
              "      <td>1826.0</td>\n",
              "      <td>2020.0</td>\n",
              "      <td>1.414214</td>\n",
              "      <td>2018.0</td>\n",
              "      <td>2019.0</td>\n",
              "      <td>2020.0</td>\n",
              "      <td>2021.0</td>\n",
              "      <td>2022.0</td>\n",
              "    </tr>\n",
              "    <tr>\n",
              "      <th>STL</th>\n",
              "      <td>1826.0</td>\n",
              "      <td>0.130345</td>\n",
              "      <td>0.392268</td>\n",
              "      <td>0.0</td>\n",
              "      <td>0.0</td>\n",
              "      <td>0.00</td>\n",
              "      <td>0.05</td>\n",
              "      <td>8.64</td>\n",
              "      <td>1826.0</td>\n",
              "      <td>183.100219</td>\n",
              "      <td>...</td>\n",
              "      <td>10.0</td>\n",
              "      <td>12.0</td>\n",
              "      <td>1826.0</td>\n",
              "      <td>2020.0</td>\n",
              "      <td>1.414214</td>\n",
              "      <td>2018.0</td>\n",
              "      <td>2019.0</td>\n",
              "      <td>2020.0</td>\n",
              "      <td>2021.0</td>\n",
              "      <td>2022.0</td>\n",
              "    </tr>\n",
              "  </tbody>\n",
              "</table>\n",
              "<p>2 rows × 32 columns</p>\n",
              "</div>\n",
              "      <button class=\"colab-df-convert\" onclick=\"convertToInteractive('df-0b7b1c1b-9129-4e03-8cd8-616f1a048009')\"\n",
              "              title=\"Convert this dataframe to an interactive table.\"\n",
              "              style=\"display:none;\">\n",
              "        \n",
              "  <svg xmlns=\"http://www.w3.org/2000/svg\" height=\"24px\"viewBox=\"0 0 24 24\"\n",
              "       width=\"24px\">\n",
              "    <path d=\"M0 0h24v24H0V0z\" fill=\"none\"/>\n",
              "    <path d=\"M18.56 5.44l.94 2.06.94-2.06 2.06-.94-2.06-.94-.94-2.06-.94 2.06-2.06.94zm-11 1L8.5 8.5l.94-2.06 2.06-.94-2.06-.94L8.5 2.5l-.94 2.06-2.06.94zm10 10l.94 2.06.94-2.06 2.06-.94-2.06-.94-.94-2.06-.94 2.06-2.06.94z\"/><path d=\"M17.41 7.96l-1.37-1.37c-.4-.4-.92-.59-1.43-.59-.52 0-1.04.2-1.43.59L10.3 9.45l-7.72 7.72c-.78.78-.78 2.05 0 2.83L4 21.41c.39.39.9.59 1.41.59.51 0 1.02-.2 1.41-.59l7.78-7.78 2.81-2.81c.8-.78.8-2.07 0-2.86zM5.41 20L4 18.59l7.72-7.72 1.47 1.35L5.41 20z\"/>\n",
              "  </svg>\n",
              "      </button>\n",
              "      \n",
              "  <style>\n",
              "    .colab-df-container {\n",
              "      display:flex;\n",
              "      flex-wrap:wrap;\n",
              "      gap: 12px;\n",
              "    }\n",
              "\n",
              "    .colab-df-convert {\n",
              "      background-color: #E8F0FE;\n",
              "      border: none;\n",
              "      border-radius: 50%;\n",
              "      cursor: pointer;\n",
              "      display: none;\n",
              "      fill: #1967D2;\n",
              "      height: 32px;\n",
              "      padding: 0 0 0 0;\n",
              "      width: 32px;\n",
              "    }\n",
              "\n",
              "    .colab-df-convert:hover {\n",
              "      background-color: #E2EBFA;\n",
              "      box-shadow: 0px 1px 2px rgba(60, 64, 67, 0.3), 0px 1px 3px 1px rgba(60, 64, 67, 0.15);\n",
              "      fill: #174EA6;\n",
              "    }\n",
              "\n",
              "    [theme=dark] .colab-df-convert {\n",
              "      background-color: #3B4455;\n",
              "      fill: #D2E3FC;\n",
              "    }\n",
              "\n",
              "    [theme=dark] .colab-df-convert:hover {\n",
              "      background-color: #434B5C;\n",
              "      box-shadow: 0px 1px 3px 1px rgba(0, 0, 0, 0.15);\n",
              "      filter: drop-shadow(0px 1px 2px rgba(0, 0, 0, 0.3));\n",
              "      fill: #FFFFFF;\n",
              "    }\n",
              "  </style>\n",
              "\n",
              "      <script>\n",
              "        const buttonEl =\n",
              "          document.querySelector('#df-0b7b1c1b-9129-4e03-8cd8-616f1a048009 button.colab-df-convert');\n",
              "        buttonEl.style.display =\n",
              "          google.colab.kernel.accessAllowed ? 'block' : 'none';\n",
              "\n",
              "        async function convertToInteractive(key) {\n",
              "          const element = document.querySelector('#df-0b7b1c1b-9129-4e03-8cd8-616f1a048009');\n",
              "          const dataTable =\n",
              "            await google.colab.kernel.invokeFunction('convertToInteractive',\n",
              "                                                     [key], {});\n",
              "          if (!dataTable) return;\n",
              "\n",
              "          const docLinkHtml = 'Like what you see? Visit the ' +\n",
              "            '<a target=\"_blank\" href=https://colab.research.google.com/notebooks/data_table.ipynb>data table notebook</a>'\n",
              "            + ' to learn more about interactive tables.';\n",
              "          element.innerHTML = '';\n",
              "          dataTable['output_type'] = 'display_data';\n",
              "          await google.colab.output.renderOutput(dataTable, element);\n",
              "          const docLink = document.createElement('div');\n",
              "          docLink.innerHTML = docLinkHtml;\n",
              "          element.appendChild(docLink);\n",
              "        }\n",
              "      </script>\n",
              "    </div>\n",
              "  </div>\n",
              "  "
            ]
          },
          "metadata": {},
          "execution_count": 14
        }
      ]
    },
    {
      "cell_type": "markdown",
      "source": [
        "The mean precipitation for both is very similar - only about 0.02 inches off from each other!\n",
        "\n",
        "There's definitely more nuance to it, which we can examine later."
      ],
      "metadata": {
        "id": "_j_OigVdd5tc"
      }
    },
    {
      "cell_type": "markdown",
      "source": [
        "First off, we can look at the distribution of rain on days. If one dataset is shifted further right than the other, it gives a good idea of which city might have more rain. Additionally, if there's clear outliers, we should be able to notice them.\n",
        "\n",
        "We can create a histogram to compare the two distributions. Because there's so many more days where there's no rain compared to having rain, a log scale makes sense so we can see the nuances in the dataset.\n",
        "\n",
        "The graph below facets two graphs by the city before taking a histogram of the precipitation. There's minor adjustments to make it look better, too, like labels, set scales, and titles."
      ],
      "metadata": {
        "id": "BalXMC-6XiJb"
      }
    },
    {
      "cell_type": "code",
      "source": [
        "rainycomp = sns.FacetGrid(df, col = 'city')\n",
        "rainycomp.map(sns.histplot, 'precipitation', bins = 25, binrange = (0, 9), log_scale = (False, True))\n",
        "rainycomp.set(ylabel = 'Number of days (log)', xlabel = 'Precipitation per day (inches)')\n",
        "rainycomp.set_titles(col_template = '{col_name} days with rain')"
      ],
      "metadata": {
        "id": "bp-S6mmRQhnh",
        "colab": {
          "base_uri": "https://localhost:8080/",
          "height": 318
        },
        "outputId": "142c9d77-2586-4838-b629-fa577ebb6109"
      },
      "execution_count": null,
      "outputs": [
        {
          "output_type": "execute_result",
          "data": {
            "text/plain": [
              "<seaborn.axisgrid.FacetGrid at 0x7f9d0ad60280>"
            ]
          },
          "metadata": {},
          "execution_count": 7
        },
        {
          "output_type": "display_data",
          "data": {
            "text/plain": [
              "<Figure size 600x300 with 2 Axes>"
            ],
            "image/png": "[encoded data removed]"
          },
          "metadata": {}
        }
      ]
    },
    {
      "cell_type": "markdown",
      "source": [
        "With the overall dataset, we can see the general distribution of both of the cities is approximately the same. We can also clearly see that there's some severe outliers in the St. Louis dataset (>8 inches of rain on a day), which suggests that if we use the mean, the average might be skewed as a result."
      ],
      "metadata": {
        "id": "0dL-0vKgYSo0"
      }
    },
    {
      "cell_type": "markdown",
      "source": [
        "Next, we can examine the number of days that had a significant amount of rain. Most days, as shown in the histogram above, had very little or zero rain.\n",
        "\n",
        "We can also distribute the number of days by month. In general, the amount of rain per year in a given place should be relatively consistent, but based on global weather patterns, the monthly amount of rain might be different from place to place.\n",
        "\n",
        "Again, below is a faceted chart. An extra variable is calculated (\"rained\") to determine if the amount of precipitation is above zero. After that, we take the average of each of them across the months to put into a faceted bar chart."
      ],
      "metadata": {
        "id": "ipKEnSLjZLBU"
      }
    },
    {
      "cell_type": "code",
      "source": [
        "df['rained'] = (df['precipitation'] > 0)\n",
        "rainycomp = sns.FacetGrid(df, col = 'city')\n",
        "rainycomp.map(sns.barplot, 'month', 'rained', order = range(1, 13))\n",
        "rainycomp.set(ylabel = 'Percentage of days with rain')\n",
        "rainycomp.set_titles(col_template = 'Rainy days in {col_name}')"
      ],
      "metadata": {
        "colab": {
          "base_uri": "https://localhost:8080/",
          "height": 318
        },
        "id": "1Sz_kN3XZze2",
        "outputId": "8c87332f-3785-42eb-f5fd-17749109635b"
      },
      "execution_count": null,
      "outputs": [
        {
          "output_type": "execute_result",
          "data": {
            "text/plain": [
              "<seaborn.axisgrid.FacetGrid at 0x7f9d40c0cdc0>"
            ]
          },
          "metadata": {},
          "execution_count": 8
        },
        {
          "output_type": "display_data",
          "data": {
            "text/plain": [
              "<Figure size 600x300 with 2 Axes>"
            ],
            "image/png": "[encoded data removed]"
          },
          "metadata": {}
        }
      ]
    },
    {
      "cell_type": "markdown",
      "source": [
        "Based on this, we can draw a couple of conclusions: \n",
        "\n",
        "- Seattle has many more rainy days than St. Louis.\n",
        "- Seattle also has most of the rainy days in the October-February months. The other times of the year are somewhat close to St. Louis.\n",
        "- St. Louis generally has a consistent amount of rainy days throughout the year - less than half of all days.\n"
      ],
      "metadata": {
        "id": "hZGpYs0NaEXd"
      }
    },
    {
      "cell_type": "markdown",
      "source": [
        "Finally, when it does rain, how hard does it rain? Because there's so many days where it doesn't rain, just looking at the days where it does would make sense.\n",
        "\n",
        "As we determined with the histogram at the top, using the mean for this would be potentially problematic - we have some serious outliers in the St. Louis dataset - so we will use the median for this analysis instead.\n",
        "\n",
        "The chart looks at a specific subset of the dataframe - the days where the precipitation is nonzero, which is the \"df\\[df\\['rained'\\]]\" - and looks at the median value for precipitation for both of those subsets. Again, it's split by month."
      ],
      "metadata": {
        "id": "qTaGsLOgbnYc"
      }
    },
    {
      "cell_type": "code",
      "source": [
        "rainycomp = sns.FacetGrid(df[df['rained']], col = 'city')\n",
        "rainycomp.map(sns.barplot, 'month', 'precipitation', estimator = 'median', order = range(1,13))"
      ],
      "metadata": {
        "colab": {
          "base_uri": "https://localhost:8080/",
          "height": 318
        },
        "id": "N3pwU83KboMp",
        "outputId": "7277a5f9-063c-415c-c774-7787974d8cc0"
      },
      "execution_count": null,
      "outputs": [
        {
          "output_type": "execute_result",
          "data": {
            "text/plain": [
              "<seaborn.axisgrid.FacetGrid at 0x7f9d0aa93d60>"
            ]
          },
          "metadata": {},
          "execution_count": 9
        },
        {
          "output_type": "display_data",
          "data": {
            "text/plain": [
              "<Figure size 600x300 with 2 Axes>"
            ],
            "image/png": "[encoded data removed]"
          },
          "metadata": {}
        }
      ]
    },
    {
      "cell_type": "markdown",
      "source": [
        "This shows us that, when it does rain in St. Louis, the median precipitation is significantly higher, especially in the summer months.\n",
        "\n",
        "This would explain why the mean is approximately equal for both datasets. The Seattle dataset has more days with non-zero precipitation, while the St. Louis dataset has much higher precipitation on days with non-zero precipitation."
      ],
      "metadata": {
        "id": "ZXobBGTEax9B"
      }
    },
    {
      "cell_type": "markdown",
      "source": [
        "## Conclusion"
      ],
      "metadata": {
        "id": "OClcegJVrF8Y"
      }
    },
    {
      "cell_type": "markdown",
      "source": [
        "Thus, we can say that in different contexts, St. Louis and Seattle are rainer than each other:\n",
        "\n",
        "- If we're looking specifically at days where it rained, Seattle has more days per year, especially in the fall and winter months, where it rains, so in that context we can say that Seattle is rainier than St. Louis.\n",
        "- If we're looking at how much it rains when it does rain, St. Louis has significantly more rain when it does rain, so in that context we can also say that St. Louis is rainier than Seattle.\n",
        "\n",
        "In general, when most people consider a measure of raininess, I think they would consider the first context more important than the second, so we can say that Seattle is, in general, rainier than St. Louis."
      ],
      "metadata": {
        "id": "45aRW_rjrHT5"
      }
    }
  ]
}